{
  "nbformat": 4,
  "nbformat_minor": 0,
  "metadata": {
    "colab": {
      "provenance": [],
      "authorship_tag": "ABX9TyMzrCAe5rAVeojqG8Tvuvag",
      "include_colab_link": true
    },
    "kernelspec": {
      "name": "python3",
      "display_name": "Python 3"
    },
    "language_info": {
      "name": "python"
    }
  },
  "cells": [
    {
      "cell_type": "markdown",
      "metadata": {
        "id": "view-in-github",
        "colab_type": "text"
      },
      "source": [
        "<a href=\"https://colab.research.google.com/github/Mujthaba-GM/AIML-NLPProjects/blob/main/Untitled19.ipynb\" target=\"_parent\"><img src=\"https://colab.research.google.com/assets/colab-badge.svg\" alt=\"Open In Colab\"/></a>"
      ]
    },
    {
      "cell_type": "code",
      "execution_count": 1,
      "metadata": {
        "colab": {
          "base_uri": "https://localhost:8080/"
        },
        "id": "bx1lPZZIWol2",
        "outputId": "02d9350a-f9c6-40a0-e7bc-d3f037ff3348"
      },
      "outputs": [
        {
          "output_type": "stream",
          "name": "stdout",
          "text": [
            "Welcome\n"
          ]
        }
      ],
      "source": [
        "print(\"Welcome\")"
      ]
    },
    {
      "cell_type": "code",
      "source": [
        "a=int(input(\"Enter n value\"))\n",
        "print(a)\n"
      ],
      "metadata": {
        "colab": {
          "base_uri": "https://localhost:8080/"
        },
        "id": "XxP5I0UhXOPU",
        "outputId": "c1e95f89-8188-4fdf-cb69-61c13e33cc5e"
      },
      "execution_count": 3,
      "outputs": [
        {
          "output_type": "stream",
          "name": "stdout",
          "text": [
            "Enter n value10\n",
            "10\n"
          ]
        }
      ]
    },
    {
      "cell_type": "code",
      "source": [
        "a=10\n",
        "b=20\n",
        "if a>b:\n",
        "    print(\"a is greater\")\n",
        "else:\n",
        "    print(\"b is greater\")\n",
        ""
      ],
      "metadata": {
        "colab": {
          "base_uri": "https://localhost:8080/"
        },
        "id": "vmSC_vdWXzY6",
        "outputId": "bde2c0a4-e164-478f-e73d-3f70d6f4e1ff"
      },
      "execution_count": 4,
      "outputs": [
        {
          "output_type": "stream",
          "name": "stdout",
          "text": [
            "b is greater\n"
          ]
        }
      ]
    },
    {
      "cell_type": "code",
      "source": [
        "i=1\n",
        "n=20\n",
        "while i<=n:\n",
        "    print(i)\n",
        "    i=i+1\n",
        ""
      ],
      "metadata": {
        "colab": {
          "base_uri": "https://localhost:8080/"
        },
        "id": "5kxzxIsXX_SW",
        "outputId": "00c26d9f-a6d1-46e4-b5e9-5205df589027"
      },
      "execution_count": 5,
      "outputs": [
        {
          "output_type": "stream",
          "name": "stdout",
          "text": [
            "1\n",
            "2\n",
            "3\n",
            "4\n",
            "5\n",
            "6\n",
            "7\n",
            "8\n",
            "9\n",
            "10\n",
            "11\n",
            "12\n",
            "13\n",
            "14\n",
            "15\n",
            "16\n",
            "17\n",
            "18\n",
            "19\n",
            "20\n"
          ]
        }
      ]
    },
    {
      "cell_type": "code",
      "source": [
        "#Data stcruures\n",
        "list1=[1,2,3,4]\n",
        "list2=['apple','boy']\n",
        "print(list1)\n",
        "print(list2)\n",
        "print(list1[0])\n",
        "print(list2[1])\n",
        "print(list1[-1])\n",
        "print(list1[0:-1])\n",
        "list1.append(10)\n",
        "print(list1)\n",
        "list1.insert(2,20)\n"
      ],
      "metadata": {
        "colab": {
          "base_uri": "https://localhost:8080/"
        },
        "id": "CAX9aDdZYE8g",
        "outputId": "e257e9c6-a4e0-49e8-86ab-10e724bb9f27"
      },
      "execution_count": 10,
      "outputs": [
        {
          "output_type": "stream",
          "name": "stdout",
          "text": [
            "[1, 2, 3, 4]\n",
            "['apple', 'boy']\n",
            "1\n",
            "boy\n",
            "4\n",
            "[1, 2, 3]\n",
            "[1, 2, 3, 4, 10]\n"
          ]
        }
      ]
    },
    {
      "cell_type": "code",
      "source": [
        "set1={1,2,2}\n",
        "print(set1)"
      ],
      "metadata": {
        "colab": {
          "base_uri": "https://localhost:8080/"
        },
        "id": "hznLNuxYZCNt",
        "outputId": "c46ba53b-2b91-4a14-b52f-1c3bec416be7"
      },
      "execution_count": 11,
      "outputs": [
        {
          "output_type": "stream",
          "name": "stdout",
          "text": [
            "{1, 2}\n"
          ]
        }
      ]
    },
    {
      "cell_type": "code",
      "source": [
        "A = {1, 2, 3, 4}\n",
        "B = {3, 4, 5, 6}\n",
        "\n",
        "print(A | B)      # Union: {1, 2, 3, 4, 5, 6}\n",
        "print(A & B)      # Intersection: {3, 4}\n",
        "print(A - B)      # Difference: {1, 2}\n",
        "print(A ^ B)      # Symmetric Difference: {1, 2, 5, 6}\n",
        "\n",
        "print(A.issubset(B))      # False\n",
        "print(A.isdisjoint(B))    # False\n"
      ],
      "metadata": {
        "colab": {
          "base_uri": "https://localhost:8080/"
        },
        "id": "9ivCwOI1YRhT",
        "outputId": "431c8b73-8cbb-4c05-9e40-cf63d5e8eeb4"
      },
      "execution_count": 12,
      "outputs": [
        {
          "output_type": "stream",
          "name": "stdout",
          "text": [
            "{1, 2, 3, 4, 5, 6}\n",
            "{3, 4}\n",
            "{1, 2}\n",
            "{1, 2, 5, 6}\n",
            "False\n",
            "False\n"
          ]
        }
      ]
    },
    {
      "cell_type": "code",
      "source": [
        "def fun1(list1):\n",
        "  print(list1)\n",
        "list1=[1,2,3,3,3,3,3]\n",
        "fun1(list1)"
      ],
      "metadata": {
        "colab": {
          "base_uri": "https://localhost:8080/"
        },
        "id": "afxkCq6mZTZb",
        "outputId": "48a5bfe1-d455-43f7-a920-29c517dc2da5"
      },
      "execution_count": 14,
      "outputs": [
        {
          "output_type": "stream",
          "name": "stdout",
          "text": [
            "[1, 2, 3, 3, 3, 3, 3]\n"
          ]
        }
      ]
    },
    {
      "cell_type": "code",
      "source": [
        "import numpy"
      ],
      "metadata": {
        "id": "y7YkdDUmZk-Y"
      },
      "execution_count": 15,
      "outputs": []
    },
    {
      "cell_type": "code",
      "source": [
        "import numpy as np\n",
        "a=np"
      ],
      "metadata": {
        "id": "7qac9mUoaaeX"
      },
      "execution_count": null,
      "outputs": []
    }
  ]
}