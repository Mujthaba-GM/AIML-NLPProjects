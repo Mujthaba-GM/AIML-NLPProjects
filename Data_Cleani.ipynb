{
  "nbformat": 4,
  "nbformat_minor": 0,
  "metadata": {
    "colab": {
      "provenance": [],
      "authorship_tag": "ABX9TyMo1UecrNEWj9Ep102s1gwG",
      "include_colab_link": true
    },
    "kernelspec": {
      "name": "python3",
      "display_name": "Python 3"
    },
    "language_info": {
      "name": "python"
    }
  },
  "cells": [
    {
      "cell_type": "markdown",
      "metadata": {
        "id": "view-in-github",
        "colab_type": "text"
      },
      "source": [
        "<a href=\"https://colab.research.google.com/github/Mujthaba-GM/AIML-NLPProjects/blob/main/Data_Cleani.ipynb\" target=\"_parent\"><img src=\"https://colab.research.google.com/assets/colab-badge.svg\" alt=\"Open In Colab\"/></a>"
      ]
    },
    {
      "cell_type": "code",
      "execution_count": null,
      "metadata": {
        "colab": {
          "base_uri": "https://localhost:8080/"
        },
        "id": "fKb3hTuvb2Ol",
        "outputId": "4c9612c4-d9b5-410b-dbd3-c9f21962d627"
      },
      "outputs": [
        {
          "output_type": "stream",
          "name": "stdout",
          "text": [
            "📋 Original DataFrame (with NaN values):\n",
            "\n",
            "   Emp_ID   Name   Age   Salary\n",
            "0     101  Alice  25.0  50000.0\n",
            "1     102    Bob   NaN  60000.0\n",
            "2     103    NaN  30.0  55000.0\n",
            "3     104  David  22.0      NaN\n",
            "4     105    Eve   NaN  52000.0\n",
            "\n",
            "✅ DataFrame after Dropping Rows with NaN:\n",
            "\n",
            "   Emp_ID   Name   Age   Salary\n",
            "0     101  Alice  25.0  50000.0\n"
          ]
        }
      ],
      "source": [
        "# Dropping NaN values with data frames\n",
        "import pandas as pd\n",
        "import numpy as np\n",
        "\n",
        "# Step 1: Create a DataFrame with some NaN values\n",
        "df = pd.DataFrame({\n",
        "    'Emp_ID': [101, 102, 103, 104, 105],\n",
        "    'Name': ['Alice', 'Bob', np.nan, 'David', 'Eve'],\n",
        "    'Age': [25, np.nan, 30, 22, np.nan],\n",
        "    'Salary': [50000, 60000, 55000, np.nan, 52000]\n",
        "})\n",
        "\n",
        "print(\"📋 Original DataFrame (with NaN values):\\n\")\n",
        "print(df)\n",
        "\n",
        "# Step 2: Drop rows with any NaN values\n",
        "df_dropped = df.dropna()\n",
        "\n",
        "print(\"\\n✅ DataFrame after Dropping Rows with NaN:\\n\")\n",
        "print(df_dropped)\n"
      ]
    },
    {
      "cell_type": "code",
      "source": [
        "import pandas as pd\n",
        "\n",
        "url = \"https://raw.githubusercontent.com/datasciencedojo/datasets/master/titanic.csv\"\n",
        "\n",
        "# Load dataset\n",
        "df = pd.read_csv(url)\n",
        "\n",
        "print(\"✅ Titanic Dataset downloaded and loaded successfully!\\n\")\n",
        "print(df.head())\n"
      ],
      "metadata": {
        "colab": {
          "base_uri": "https://localhost:8080/"
        },
        "id": "IB-xC6QSQ3y4",
        "outputId": "0dc10cec-ca3d-43f8-9471-cebdcb141b35"
      },
      "execution_count": 2,
      "outputs": [
        {
          "output_type": "stream",
          "name": "stdout",
          "text": [
            "✅ Titanic Dataset downloaded and loaded successfully!\n",
            "\n",
            "   PassengerId  Survived  Pclass  \\\n",
            "0            1         0       3   \n",
            "1            2         1       1   \n",
            "2            3         1       3   \n",
            "3            4         1       1   \n",
            "4            5         0       3   \n",
            "\n",
            "                                                Name     Sex   Age  SibSp  \\\n",
            "0                            Braund, Mr. Owen Harris    male  22.0      1   \n",
            "1  Cumings, Mrs. John Bradley (Florence Briggs Th...  female  38.0      1   \n",
            "2                             Heikkinen, Miss. Laina  female  26.0      0   \n",
            "3       Futrelle, Mrs. Jacques Heath (Lily May Peel)  female  35.0      1   \n",
            "4                           Allen, Mr. William Henry    male  35.0      0   \n",
            "\n",
            "   Parch            Ticket     Fare Cabin Embarked  \n",
            "0      0         A/5 21171   7.2500   NaN        S  \n",
            "1      0          PC 17599  71.2833   C85        C  \n",
            "2      0  STON/O2. 3101282   7.9250   NaN        S  \n",
            "3      0            113803  53.1000  C123        S  \n",
            "4      0            373450   8.0500   NaN        S  \n"
          ]
        }
      ]
    },
    {
      "cell_type": "code",
      "source": [
        "#Remove duplicates\n",
        "import pandas as pd\n",
        "\n",
        "# Step 1: Create a DataFrame with duplicate rows\n",
        "df = pd.DataFrame({\n",
        "    'Emp_ID': [101, 102, 103, 101, 104, 102],\n",
        "    'Name': ['Alice', 'Bob', 'Charlie', 'Alice', 'David', 'Bob'],\n",
        "    'Department': ['HR', 'Finance', 'IT', 'HR', 'IT', 'Finance']\n",
        "})\n",
        "\n",
        "print(\"📋 Original DataFrame (with duplicates):\\n\")\n",
        "print(df)\n",
        "\n",
        "# Step 2: Remove duplicate rows\n",
        "df_no_duplicates = df.drop_duplicates()\n",
        "\n",
        "print(\"\\n✅ DataFrame after Removing Duplicates:\\n\")\n",
        "print(df_no_duplicates)\n"
      ],
      "metadata": {
        "colab": {
          "base_uri": "https://localhost:8080/"
        },
        "id": "HvMC35KTiXRw",
        "outputId": "e9562bec-7fb4-4990-8ff6-6dcaa7f9533f"
      },
      "execution_count": null,
      "outputs": [
        {
          "output_type": "stream",
          "name": "stdout",
          "text": [
            "📋 Original DataFrame (with duplicates):\n",
            "\n",
            "   Emp_ID     Name Department\n",
            "0     101    Alice         HR\n",
            "1     102      Bob    Finance\n",
            "2     103  Charlie         IT\n",
            "3     101    Alice         HR\n",
            "4     104    David         IT\n",
            "5     102      Bob    Finance\n",
            "\n",
            "✅ DataFrame after Removing Duplicates:\n",
            "\n",
            "   Emp_ID     Name Department\n",
            "0     101    Alice         HR\n",
            "1     102      Bob    Finance\n",
            "2     103  Charlie         IT\n",
            "4     104    David         IT\n"
          ]
        }
      ]
    },
    {
      "cell_type": "code",
      "source": [
        "#Fix incorrect data types\n",
        "import pandas as pd\n",
        "\n",
        "# Step 1️⃣ Create a simple DataFrame\n",
        "df = pd.DataFrame({\n",
        "    'Date': ['2024-01-01', '2024-02-15', 'oops'],\n",
        "    'Age': ['25', 'thirty', '40']\n",
        "})\n",
        "\n",
        "print(\"📋 Original DataFrame:\\n\")\n",
        "print(df)\n",
        "print(\"\\nData Types Before Correction:\\n\", df.dtypes)\n",
        "\n",
        "# Step 2️⃣ Fix incorrect types\n",
        "df['Date'] = pd.to_datetime(df['Date'], errors='coerce')\n",
        "df['Age'] = pd.to_numeric(df['Age'], errors='coerce')\n",
        "\n",
        "print(\"\\n✅ DataFrame After Fixing Types:\\n\")\n",
        "print(df)\n",
        "print(\"\\nData Types After Correction:\\n\", df.dtypes)\n",
        "\n"
      ],
      "metadata": {
        "colab": {
          "base_uri": "https://localhost:8080/"
        },
        "id": "NSc6udeFjdH6",
        "outputId": "9e274663-38ab-4d6b-d481-7496ab7d72bb"
      },
      "execution_count": 1,
      "outputs": [
        {
          "output_type": "stream",
          "name": "stdout",
          "text": [
            "📋 Original DataFrame:\n",
            "\n",
            "         Date     Age\n",
            "0  2024-01-01      25\n",
            "1  2024-02-15  thirty\n",
            "2        oops      40\n",
            "\n",
            "Data Types Before Correction:\n",
            " Date    object\n",
            "Age     object\n",
            "dtype: object\n",
            "\n",
            "✅ DataFrame After Fixing Types:\n",
            "\n",
            "        Date   Age\n",
            "0 2024-01-01  25.0\n",
            "1 2024-02-15   NaN\n",
            "2        NaT  40.0\n",
            "\n",
            "Data Types After Correction:\n",
            " Date    datetime64[ns]\n",
            "Age            float64\n",
            "dtype: object\n"
          ]
        }
      ]
    },
    {
      "cell_type": "code",
      "source": [
        "#standardize\n",
        "import pandas as pd\n",
        "\n",
        "# Step 1: Create a DataFrame with inconsistent text cases\n",
        "df = pd.DataFrame({\n",
        "    'City': ['LONDON', 'London', 'london', 'LoNDoN', 'NEW YORK']\n",
        "})\n",
        "\n",
        "print(\"📋 Original DataFrame:\\n\")\n",
        "print(df)\n",
        "\n",
        "# Step 2: Standardize text to lowercase\n",
        "df_standardized = df.copy()\n",
        "df_standardized['City'] = df_standardized['City'].str.lower()\n",
        "\n",
        "print(\"\\n✅ After Standardizing Text Data (lowercase):\\n\")\n",
        "print(df_standardized)\n"
      ],
      "metadata": {
        "colab": {
          "base_uri": "https://localhost:8080/"
        },
        "id": "DDlwmja6ovPy",
        "outputId": "3aa7deff-6efe-4dfc-d301-8b63cf98f742"
      },
      "execution_count": null,
      "outputs": [
        {
          "output_type": "stream",
          "name": "stdout",
          "text": [
            "📋 Original DataFrame:\n",
            "\n",
            "       City\n",
            "0    LONDON\n",
            "1    London\n",
            "2    london\n",
            "3    LoNDoN\n",
            "4  NEW YORK\n",
            "\n",
            "✅ After Standardizing Text Data (lowercase):\n",
            "\n",
            "       City\n",
            "0    london\n",
            "1    london\n",
            "2    london\n",
            "3    london\n",
            "4  new york\n"
          ]
        }
      ]
    },
    {
      "cell_type": "code",
      "source": [
        "#IQR method outliers\n",
        "import pandas as pd\n",
        "\n",
        "# Step 1: Create a DataFrame with some outliers\n",
        "df = pd.DataFrame({\n",
        "    'Salary': [50000, 52000, 51000, 49000, 50500, 100000]  # 100000 is an outlier\n",
        "})\n",
        "\n",
        "print(\"📋 Original DataFrame:\\n\")\n",
        "print(df)\n",
        "\n",
        "# Step 2: Calculate IQR\n",
        "Q1 = df['Salary'].quantile(0.25)\n",
        "Q3 = df['Salary'].quantile(0.75)\n",
        "IQR = Q3 - Q1\n",
        "\n",
        "# Step 3: Define bounds\n",
        "lower_bound = Q1 - 1.5 * IQR\n",
        "upper_bound = Q3 + 1.5 * IQR\n",
        "\n",
        "# Step 4: Filter out outliers\n",
        "df_iqr_cleaned = df[(df['Salary'] >= lower_bound) & (df['Salary'] <= upper_bound)]\n",
        "\n",
        "print(\"\\n✅ DataFrame after Removing Outliers using IQR:\\n\")\n",
        "print(df_iqr_cleaned)\n"
      ],
      "metadata": {
        "colab": {
          "base_uri": "https://localhost:8080/"
        },
        "id": "305LRdFWpBpV",
        "outputId": "482f3e5d-9d5c-462e-f193-39ec88b9f7a6"
      },
      "execution_count": null,
      "outputs": [
        {
          "output_type": "stream",
          "name": "stdout",
          "text": [
            "📋 Original DataFrame:\n",
            "\n",
            "   Salary\n",
            "0   50000\n",
            "1   52000\n",
            "2   51000\n",
            "3   49000\n",
            "4   50500\n",
            "5  100000\n",
            "\n",
            "✅ DataFrame after Removing Outliers using IQR:\n",
            "\n",
            "   Salary\n",
            "0   50000\n",
            "1   52000\n",
            "2   51000\n",
            "3   49000\n",
            "4   50500\n"
          ]
        }
      ]
    }
  ]
}