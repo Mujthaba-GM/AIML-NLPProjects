{
  "nbformat": 4,
  "nbformat_minor": 0,
  "metadata": {
    "colab": {
      "provenance": [],
      "authorship_tag": "ABX9TyNHzX0GqFmGrVRCDVwy9BBa",
      "include_colab_link": true
    },
    "kernelspec": {
      "name": "python3",
      "display_name": "Python 3"
    },
    "language_info": {
      "name": "python"
    }
  },
  "cells": [
    {
      "cell_type": "markdown",
      "metadata": {
        "id": "view-in-github",
        "colab_type": "text"
      },
      "source": [
        "<a href=\"https://colab.research.google.com/github/Mujthaba-GM/AIML-NLPProjects/blob/main/NLP-SentimentAnalysis.ipynb\" target=\"_parent\"><img src=\"https://colab.research.google.com/assets/colab-badge.svg\" alt=\"Open In Colab\"/></a>"
      ]
    },
    {
      "cell_type": "code",
      "execution_count": 5,
      "metadata": {
        "colab": {
          "base_uri": "https://localhost:8080/"
        },
        "id": "KaTgxLtlRJ32",
        "outputId": "2192bb52-0f5e-4df5-a51e-c742475f6b49"
      },
      "outputs": [
        {
          "output_type": "stream",
          "name": "stdout",
          "text": [
            "Requirement already satisfied: nltk in /usr/local/lib/python3.11/dist-packages (3.9.1)\n",
            "Requirement already satisfied: scikit-learn in /usr/local/lib/python3.11/dist-packages (1.6.1)\n",
            "Requirement already satisfied: pandas in /usr/local/lib/python3.11/dist-packages (2.2.2)\n",
            "Requirement already satisfied: matplotlib in /usr/local/lib/python3.11/dist-packages (3.10.0)\n",
            "Requirement already satisfied: seaborn in /usr/local/lib/python3.11/dist-packages (0.13.2)\n",
            "Requirement already satisfied: click in /usr/local/lib/python3.11/dist-packages (from nltk) (8.2.1)\n",
            "Requirement already satisfied: joblib in /usr/local/lib/python3.11/dist-packages (from nltk) (1.5.1)\n",
            "Requirement already satisfied: regex>=2021.8.3 in /usr/local/lib/python3.11/dist-packages (from nltk) (2024.11.6)\n",
            "Requirement already satisfied: tqdm in /usr/local/lib/python3.11/dist-packages (from nltk) (4.67.1)\n",
            "Requirement already satisfied: numpy>=1.19.5 in /usr/local/lib/python3.11/dist-packages (from scikit-learn) (2.0.2)\n",
            "Requirement already satisfied: scipy>=1.6.0 in /usr/local/lib/python3.11/dist-packages (from scikit-learn) (1.16.0)\n",
            "Requirement already satisfied: threadpoolctl>=3.1.0 in /usr/local/lib/python3.11/dist-packages (from scikit-learn) (3.6.0)\n",
            "Requirement already satisfied: python-dateutil>=2.8.2 in /usr/local/lib/python3.11/dist-packages (from pandas) (2.9.0.post0)\n",
            "Requirement already satisfied: pytz>=2020.1 in /usr/local/lib/python3.11/dist-packages (from pandas) (2025.2)\n",
            "Requirement already satisfied: tzdata>=2022.7 in /usr/local/lib/python3.11/dist-packages (from pandas) (2025.2)\n",
            "Requirement already satisfied: contourpy>=1.0.1 in /usr/local/lib/python3.11/dist-packages (from matplotlib) (1.3.2)\n",
            "Requirement already satisfied: cycler>=0.10 in /usr/local/lib/python3.11/dist-packages (from matplotlib) (0.12.1)\n",
            "Requirement already satisfied: fonttools>=4.22.0 in /usr/local/lib/python3.11/dist-packages (from matplotlib) (4.59.0)\n",
            "Requirement already satisfied: kiwisolver>=1.3.1 in /usr/local/lib/python3.11/dist-packages (from matplotlib) (1.4.8)\n",
            "Requirement already satisfied: packaging>=20.0 in /usr/local/lib/python3.11/dist-packages (from matplotlib) (25.0)\n",
            "Requirement already satisfied: pillow>=8 in /usr/local/lib/python3.11/dist-packages (from matplotlib) (11.3.0)\n",
            "Requirement already satisfied: pyparsing>=2.3.1 in /usr/local/lib/python3.11/dist-packages (from matplotlib) (3.2.3)\n",
            "Requirement already satisfied: six>=1.5 in /usr/local/lib/python3.11/dist-packages (from python-dateutil>=2.8.2->pandas) (1.17.0)\n"
          ]
        },
        {
          "output_type": "stream",
          "name": "stderr",
          "text": [
            "[nltk_data] Downloading package stopwords to /root/nltk_data...\n",
            "[nltk_data]   Unzipping corpora/stopwords.zip.\n"
          ]
        },
        {
          "output_type": "execute_result",
          "data": {
            "text/plain": [
              "True"
            ]
          },
          "metadata": {},
          "execution_count": 5
        }
      ],
      "source": [
        "#SENTIMENT ANALYSIS\n",
        "!pip install nltk scikit-learn pandas matplotlib seaborn\n",
        "#Import Libraries\n",
        "import nltk\n",
        "import pandas as pd\n",
        "from sklearn.model_selection import train_test_split\n",
        "from sklearn.feature_extraction.text import CountVectorizer, TfidfTransformer\n",
        "from sklearn.naive_bayes import MultinomialNB\n",
        "from sklearn.metrics import accuracy_score, confusion_matrix, classification_report\n",
        "import seaborn as sns\n",
        "import matplotlib.pyplot as plt\n",
        "\n",
        "nltk.download('stopwords')\n",
        "\n",
        "\n"
      ]
    },
    {
      "cell_type": "code",
      "source": [
        "#Data set\n",
        "data = {\n",
        "    'Review': [\n",
        "        \"I love this product, it is amazing!\",\n",
        "        \"Worst experience ever, I hate it.\",\n",
        "        \"The movie was fantastic and thrilling.\",\n",
        "        \"I am disappointed, waste of money.\",\n",
        "        \"Great service and friendly staff.\",\n",
        "        \"The food was terrible and tasteless.\"\n",
        "    ],\n",
        "    'Sentiment': ['Positive', 'Negative', 'Positive', 'Negative', 'Positive', 'Negative']\n",
        "}\n",
        "\n",
        "df = pd.DataFrame(data)\n",
        "print(df)\n"
      ],
      "metadata": {
        "colab": {
          "base_uri": "https://localhost:8080/"
        },
        "id": "Vi3hMYhUSYX-",
        "outputId": "7510bd40-125c-4b97-8916-343320965f9d"
      },
      "execution_count": 6,
      "outputs": [
        {
          "output_type": "stream",
          "name": "stdout",
          "text": [
            "                                   Review Sentiment\n",
            "0     I love this product, it is amazing!  Positive\n",
            "1       Worst experience ever, I hate it.  Negative\n",
            "2  The movie was fantastic and thrilling.  Positive\n",
            "3      I am disappointed, waste of money.  Negative\n",
            "4       Great service and friendly staff.  Positive\n",
            "5    The food was terrible and tasteless.  Negative\n"
          ]
        }
      ]
    },
    {
      "cell_type": "code",
      "source": [
        "#Text Preprocessing\n",
        "from nltk.corpus import stopwords\n",
        "import string\n",
        "\n",
        "stop_words = set(stopwords.words('english'))\n",
        "\n",
        "def preprocess(text):\n",
        "    text = text.lower()\n",
        "    text = ''.join([char for char in text if char not in string.punctuation])\n",
        "    words = text.split()\n",
        "    words = [word for word in words if word not in stop_words]\n",
        "    return ' '.join(words)\n",
        "\n",
        "df['Cleaned_Review'] = df['Review'].apply(preprocess)\n",
        "print(df[['Review', 'Cleaned_Review']])\n",
        "\n"
      ],
      "metadata": {
        "colab": {
          "base_uri": "https://localhost:8080/"
        },
        "id": "yQ-dA2bha2Zd",
        "outputId": "9b28897a-2785-4225-eead-45be9db5962a"
      },
      "execution_count": 7,
      "outputs": [
        {
          "output_type": "stream",
          "name": "stdout",
          "text": [
            "                                   Review                Cleaned_Review\n",
            "0     I love this product, it is amazing!          love product amazing\n",
            "1       Worst experience ever, I hate it.    worst experience ever hate\n",
            "2  The movie was fantastic and thrilling.     movie fantastic thrilling\n",
            "3      I am disappointed, waste of money.      disappointed waste money\n",
            "4       Great service and friendly staff.  great service friendly staff\n",
            "5    The food was terrible and tasteless.       food terrible tasteless\n"
          ]
        }
      ]
    },
    {
      "cell_type": "code",
      "source": [
        "#Train and split the data\n",
        "X = df['Cleaned_Review']\n",
        "y = df['Sentiment']\n",
        "\n",
        "X_train, X_test, y_train, y_test = train_test_split(X, y, test_size=0.3, random_state=42)\n"
      ],
      "metadata": {
        "id": "cNk3rr_HbcAy"
      },
      "execution_count": 9,
      "outputs": []
    },
    {
      "cell_type": "code",
      "source": [
        "#Feature Extraction (Bag of Words + TF-IDF)\n",
        "# Import text vectorization tools\n",
        "cv = CountVectorizer()        # Converts text documents into a matrix of token counts (Bag of Words)\n",
        "tfidf = TfidfTransformer()    # Converts token counts into TF-IDF scores (importance of words)\n",
        "\n",
        "# ----- Training Data -----\n",
        "X_train_counts = cv.fit_transform(X_train)   # Learn vocabulary from training data and count word occurrences\n",
        "X_train_tfidf = tfidf.fit_transform(X_train_counts)  # Transform counts into TF-IDF scores for training\n",
        "\n",
        "# ----- Testing Data -----\n",
        "X_test_counts = cv.transform(X_test)         # Use the same learned vocabulary to count words in test data\n",
        "X_test_tfidf = tfidf.transform(X_test_counts)  # Transform test counts into TF-IDF scores\n"
      ],
      "metadata": {
        "id": "UEJRWptSbqGD"
      },
      "execution_count": 18,
      "outputs": []
    },
    {
      "cell_type": "code",
      "source": [
        "# ----- Model Training -----\n",
        "model = MultinomialNB()                # Initialize a Naïve Bayes classifier (suitable for text classification)\n",
        "model.fit(X_train_tfidf, y_train)       # Train the model using TF-IDF features from the training data\n",
        "\n",
        "# ----- Prediction -----\n",
        "y_pred = model.predict(X_test_tfidf)    # Predict sentiments for the test dataset using the trained model\n",
        "\n"
      ],
      "metadata": {
        "id": "q9o11I7rbwQk"
      },
      "execution_count": 19,
      "outputs": []
    },
    {
      "cell_type": "code",
      "source": [],
      "metadata": {
        "id": "bPYOMwv-d9vV"
      },
      "execution_count": null,
      "outputs": []
    },
    {
      "cell_type": "code",
      "source": [
        "from sklearn.metrics import accuracy_score, confusion_matrix\n",
        "\n",
        "# Confusion Matrix\n",
        "cm = confusion_matrix(y_test, y_pred)\n",
        "\n",
        "plt.figure(figsize=(5,4))\n",
        "sns.heatmap(cm, annot=True, cmap='Blues', fmt='d',\n",
        "            xticklabels=model.classes_, yticklabels=model.classes_)\n",
        "plt.title('Confusion Matrix')\n",
        "plt.xlabel('Predicted')\n",
        "plt.ylabel('Actual')\n",
        "plt.show()\n",
        "\n",
        "# Sentiment Distribution\n",
        "plt.figure(figsize=(5,4))\n",
        "df['Sentiment'].value_counts().plot(kind='bar', color=['green', 'red'])\n",
        "plt.title('Sentiment Distribution')\n",
        "plt.xlabel('Sentiment')\n",
        "plt.ylabel('Count')\n",
        "plt.show()\n"
      ],
      "metadata": {
        "colab": {
          "base_uri": "https://localhost:8080/",
          "height": 852
        },
        "id": "9FyK_3BAbzZt",
        "outputId": "86057275-3457-4ca0-bcec-ae82c74f6714"
      },
      "execution_count": 17,
      "outputs": [
        {
          "output_type": "display_data",
          "data": {
            "text/plain": [
              "<Figure size 500x400 with 2 Axes>"
            ],
            "image/png": "[encoded data removed]"
          },
          "metadata": {}
        },
        {
          "output_type": "display_data",
          "data": {
            "text/plain": [
              "<Figure size 500x400 with 1 Axes>"
            ],
            "image/png": "[encoded data removed]"
          },
          "metadata": {}
        }
      ]
    },
    {
      "cell_type": "code",
      "source": [
        "# New test reviews (not part of training set)\n",
        "new_reviews = [\n",
        "    \"This phone is fantastic and works perfectly.\",\n",
        "    \"I am not happy with the service, very bad experience.\",\n",
        "    \"The restaurant was amazing, food was delicious.\",\n",
        "    \"Terrible product, broke in just one week.\"\n",
        "]\n",
        "\n",
        "# Preprocess the reviews\n",
        "new_reviews_cleaned = [preprocess(review) for review in new_reviews]\n",
        "\n",
        "# Convert to TF-IDF features\n",
        "new_counts = cv.transform(new_reviews_cleaned)\n",
        "new_tfidf = tfidf.transform(new_counts)\n",
        "\n",
        "# Predict sentiments\n",
        "new_predictions = model.predict(new_tfidf)\n",
        "\n",
        "# Show results\n",
        "for review, sentiment in zip(new_reviews, new_predictions):\n",
        "    print(f\"Review: {review} → Sentiment: {sentiment}\")\n"
      ],
      "metadata": {
        "colab": {
          "base_uri": "https://localhost:8080/"
        },
        "id": "zvA5J7sYd_sz",
        "outputId": "7e800709-3896-46b4-8b84-3bef67493017"
      },
      "execution_count": 20,
      "outputs": [
        {
          "output_type": "stream",
          "name": "stdout",
          "text": [
            "Review: This phone is fantastic and works perfectly. → Sentiment: Positive\n",
            "Review: I am not happy with the service, very bad experience. → Sentiment: Positive\n",
            "Review: The restaurant was amazing, food was delicious. → Sentiment: Negative\n",
            "Review: Terrible product, broke in just one week. → Sentiment: Negative\n"
          ]
        }
      ]
    },
    {
      "cell_type": "code",
      "source": [
        "from sklearn.feature_extraction.text import TfidfVectorizer\n",
        "from sklearn.naive_bayes import MultinomialNB\n",
        "from sklearn.metrics import accuracy_score\n",
        "\n",
        "# ----- Training Data -----\n",
        "texts = [\n",
        "    \"I love this\", \"Worst ever\", \"Fantastic movie\", \"Waste of money\",\n",
        "    \"Great service\", \"Terrible food\",\n",
        "    \"Amazing phone\", \"Awesome experience\", \"Good product\", \"Excellent service\"\n",
        "]\n",
        "labels = [\n",
        "    \"Positive\", \"Negative\", \"Positive\", \"Negative\", \"Positive\", \"Negative\",\n",
        "    \"Positive\", \"Positive\", \"Positive\", \"Positive\"\n",
        "]\n",
        "\n",
        "# ----- Vectorize + Train -----\n",
        "v = TfidfVectorizer()\n",
        "X = v.fit_transform(texts)\n",
        "m = MultinomialNB()\n",
        "m.fit(X, labels)\n",
        "\n",
        "# ----- Test Data -----\n",
        "tests = [\"Amazing product\", \"Very bad service\", \"Loved the movie\"]\n",
        "preds = m.predict(v.transform(tests))\n",
        "\n",
        "# ----- Output -----\n",
        "for t, p in zip(tests, preds):\n",
        "    print(f\"{t} → {p}\")\n",
        "\n",
        "# ----- Accuracy on Training Data -----\n",
        "train_preds = m.predict(X)\n",
        "print(\"Training Accuracy:\", accuracy_score(labels, train_preds))\n"
      ],
      "metadata": {
        "colab": {
          "base_uri": "https://localhost:8080/"
        },
        "id": "F2iSDPPSfJtL",
        "outputId": "7d9a0288-c00f-4f84-bed7-7b63c3e80746"
      },
      "execution_count": 23,
      "outputs": [
        {
          "output_type": "stream",
          "name": "stdout",
          "text": [
            "Amazing product → Positive\n",
            "Very bad service → Positive\n",
            "Loved the movie → Positive\n",
            "Training Accuracy: 1.0\n"
          ]
        }
      ]
    },
    {
      "cell_type": "code",
      "source": [],
      "metadata": {
        "id": "flpSgyRNhjxI"
      },
      "execution_count": null,
      "outputs": []
    },
    {
      "cell_type": "code",
      "source": [],
      "metadata": {
        "id": "Nh5kt66Me71G"
      },
      "execution_count": null,
      "outputs": []
    }
  ]
}